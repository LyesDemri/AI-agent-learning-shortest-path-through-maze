{
  "nbformat": 4,
  "nbformat_minor": 0,
  "metadata": {
    "colab": {
      "provenance": [],
      "authorship_tag": "ABX9TyNhJ+NyIgfMaHmQGLzZaXeA",
      "include_colab_link": true
    },
    "kernelspec": {
      "name": "python3",
      "display_name": "Python 3"
    },
    "language_info": {
      "name": "python"
    }
  },
  "cells": [
    {
      "cell_type": "markdown",
      "metadata": {
        "id": "view-in-github",
        "colab_type": "text"
      },
      "source": [
        "<a href=\"https://colab.research.google.com/github/LyesDemri/AI-agent-learning-shortest-path-through-maze/blob/main/My_NN_vs_Tensorflow_for_Deep_Learning.ipynb\" target=\"_parent\"><img src=\"https://colab.research.google.com/assets/colab-badge.svg\" alt=\"Open In Colab\"/></a>"
      ]
    },
    {
      "cell_type": "markdown",
      "source": [
        "Load data from files"
      ],
      "metadata": {
        "id": "7PjsiAq9h8Y4"
      }
    },
    {
      "cell_type": "code",
      "execution_count": null,
      "metadata": {
        "colab": {
          "base_uri": "https://localhost:8080/"
        },
        "id": "i5EGG7H-hioj",
        "outputId": "3bcad06b-3394-4be4-b767-b1e2c755431c"
      },
      "outputs": [
        {
          "output_type": "stream",
          "name": "stdout",
          "text": [
            "Data has been loaded\n"
          ]
        }
      ],
      "source": [
        "%reset -f\n",
        "\n",
        "import numpy as np\n",
        "import matplotlib.pyplot as plt\n",
        "import csv\n",
        "\n",
        "#load train file\n",
        "file = open('sample_data/mnist_train_small.csv','r');\n",
        "csvreader = csv.reader(file);\n",
        "X = [0]*20000;\n",
        "label = [0]*20000;\n",
        "k=0;\n",
        "for row in csvreader:\n",
        "  label[k] = row[0];\n",
        "  X[k] = row[1:];\n",
        "  k+=1;\n",
        "X = np.double(np.transpose(np.array(X)))/255;\n",
        "\n",
        "T = np.zeros((10,20000));\n",
        "\n",
        "for i in range(20000):\n",
        "  T[int(label[i]),i] = 1;\n",
        "\n",
        "#load test file\n",
        "file = open('sample_data/mnist_test.csv','r');\n",
        "csvreader = csv.reader(file);\n",
        "X_test = [0]*10000;\n",
        "label_test = [0]*10000;\n",
        "k=0;\n",
        "for row in csvreader:\n",
        "  label_test[k] = row[0];\n",
        "  X_test[k] = row[1:];\n",
        "  k+=1;\n",
        "\n",
        "X_test = np.double(np.transpose(np.array(X_test)))/255;\n",
        "\n",
        "T_test = np.zeros((10,10000));\n",
        "\n",
        "for i in range(10000):\n",
        "  T_test[int(label_test[i]),i] = 1;\n",
        "\n",
        "print('Data has been loaded')"
      ]
    },
    {
      "cell_type": "markdown",
      "source": [
        "Recognize digits with my own code first:"
      ],
      "metadata": {
        "id": "GaS48Ip29VNo"
      }
    },
    {
      "cell_type": "code",
      "source": [
        "#Generate network:\n",
        "layers = ['ReLU']*9 + ['sigmoid'];\n",
        "layers = ['sigmoid','sigmoid']\n",
        "layers = ['sigmoid']*10;\n",
        "print(layers)\n",
        "n_layers = len(layers);\n",
        "ILU = 784;  #input layer units\n",
        "HLU = 10;   #hidden layer units\n",
        "OLU = 10;   #output layer units\n",
        "W = [0]*n_layers;\n",
        "b = [0]*n_layers;\n",
        "\n",
        "W[0] = np.random.rand(HLU,ILU)*0.1-0.05;\n",
        "b[0] = np.random.rand(HLU,1)*0.1-0.05;\n",
        "for i in range(1,n_layers-1):\n",
        "  W[i] = np.random.rand(HLU,HLU)*0.1-0.05;\n",
        "  b[i] = np.random.rand(HLU,1)*0.1-0.05;\n",
        "W[n_layers-1] = np.random.rand(OLU,HLU)*0.1-0.05;\n",
        "b[n_layers-1] = np.random.rand(OLU,1)*0.1-0.05;\n",
        "\n",
        "#start training:\n",
        "\n",
        "def logsig(x):\n",
        "  y = np.zeros(np.shape(x));\n",
        "  for i in range(len(x)):\n",
        "    y[i] = 1/(1+np.exp(-x[i]));\n",
        "  return y;\n",
        "\n",
        "def ReLU(x):\n",
        "  y = np.zeros(np.shape(x));\n",
        "  for i in range(len(x)):\n",
        "    y[i] = np.max([0,x[i]]);\n",
        "  return y;\n",
        "def derive(Y,layer_type):\n",
        "  derivative = np.zeros(np.shape(Y));\n",
        "  if layer_type == 'sigmoid':\n",
        "    for i in range(len(Y)):\n",
        "      derivative[i] = Y[i]*(1-Y[i]);\n",
        "  elif layer_type == 'ReLU':\n",
        "    for i in range(len(Y)):\n",
        "      derivative[i] = 1;\n",
        "  return derivative;\n",
        "\n",
        "epochs = 10;\n",
        "errors_list = np.zeros(epochs);\n",
        "for epoch in range(epochs):\n",
        "  for i in range(20000):\n",
        "    #forward:\n",
        "    Y = [0]*(n_layers+1);\n",
        "    Y[0] = X[:,[i]];\n",
        "    for l in range(n_layers):\n",
        "      if layers[l] == 'sigmoid':\n",
        "        Y[l+1] = logsig(W[l]@Y[l] + b[l]);\n",
        "      elif layers[l] == 'ReLU':\n",
        "        Y[l+1] = ReLU(W[l]@Y[l] + b[l]);\n",
        "\n",
        "    dEdb = [0]*n_layers;\n",
        "    dEdW = [0]*n_layers;\n",
        "    d = 2*(Y[-1]-T[:,[i]])/10;\n",
        "    for l in range(n_layers-1,-1,-1):\n",
        "      d = d*derive(Y[l+1],layers[l]);\n",
        "      dEdb[l] = d;\n",
        "      dEdW[l] = d@Y[l].transpose();\n",
        "      d = W[l].transpose()@d;\n",
        "    \n",
        "    for l in range(n_layers):\n",
        "      W[l] = W[l] - 0.1*dEdW[l];\n",
        "      b[l] = b[l] - 0.1*dEdb[l];\n",
        "    \n",
        "  errors = 0;\n",
        "  for i in range(20000):\n",
        "    #forward:\n",
        "    Y = [0]*(n_layers+1);\n",
        "    Y[0] = X[:,[i]];\n",
        "    for l in range(n_layers):\n",
        "      if layers[l] == 'sigmoid':\n",
        "        Y[l+1] = logsig(W[l]@Y[l] + b[l]);\n",
        "      elif layers[l] == 'ReLU':\n",
        "        Y[l+1] = ReLU(W[l]@Y[l] + b[l]);\n",
        "    a = np.argmax(Y[n_layers]);\n",
        "    ca = np.argmax(T[:,[i]]);\n",
        "    if ca!=a:\n",
        "      errors+=1;\n",
        "\n",
        "  errors_list[epoch] = errors*100/20000;\n",
        "  print(\"Epoch \",epoch+1, \": \", 100-errors*100/20000, \"% accuracy\")\n",
        "\n",
        "errors = 0;\n",
        "for i in range(10000):\n",
        "  #forward:\n",
        "  Y = [0]*(n_layers+1);\n",
        "  Y[0] = X_test[:,[i]];\n",
        "  for l in range(n_layers):\n",
        "    if layers[l] == 'sigmoid':\n",
        "      Y[l+1] = logsig(W[l]@Y[l] + b[l]);\n",
        "    elif layers[l] == 'ReLU':\n",
        "      Y[l+1] = ReLU(W[l]@Y[l] + b[l]);\n",
        "  a = np.argmax(Y[n_layers]);\n",
        "  ca = np.argmax(T_test[:,[i]]);\n",
        "  if ca!=a:\n",
        "    errors+=1;\n",
        "errors_on_test = errors *100/10000;\n",
        "print(\"Accuracy on test set: \",100-errors_on_test);"
      ],
      "metadata": {
        "colab": {
          "base_uri": "https://localhost:8080/",
          "height": 690
        },
        "id": "0n5DOc0v2i-Z",
        "outputId": "d18d47a6-561c-4c8f-cd40-1715ee735d58"
      },
      "execution_count": null,
      "outputs": [
        {
          "output_type": "stream",
          "name": "stdout",
          "text": [
            "['sigmoid', 'sigmoid', 'sigmoid', 'sigmoid', 'sigmoid', 'sigmoid', 'sigmoid', 'sigmoid', 'sigmoid', 'sigmoid']\n",
            "Epoch  1 :  11.215000000000003 % accuracy\n",
            "Epoch  2 :  11.215000000000003 % accuracy\n",
            "Epoch  3 :  11.215000000000003 % accuracy\n"
          ]
        },
        {
          "output_type": "error",
          "ename": "KeyboardInterrupt",
          "evalue": "ignored",
          "traceback": [
            "\u001b[0;31m---------------------------------------------------------------------------\u001b[0m",
            "\u001b[0;31mKeyboardInterrupt\u001b[0m                         Traceback (most recent call last)",
            "\u001b[0;32m<ipython-input-18-6ca579179c09>\u001b[0m in \u001b[0;36m<cell line: 46>\u001b[0;34m()\u001b[0m\n\u001b[1;32m     75\u001b[0m     \u001b[0;32mfor\u001b[0m \u001b[0ml\u001b[0m \u001b[0;32min\u001b[0m \u001b[0mrange\u001b[0m\u001b[0;34m(\u001b[0m\u001b[0mn_layers\u001b[0m\u001b[0;34m)\u001b[0m\u001b[0;34m:\u001b[0m\u001b[0;34m\u001b[0m\u001b[0;34m\u001b[0m\u001b[0m\n\u001b[1;32m     76\u001b[0m       \u001b[0;32mif\u001b[0m \u001b[0mlayers\u001b[0m\u001b[0;34m[\u001b[0m\u001b[0ml\u001b[0m\u001b[0;34m]\u001b[0m \u001b[0;34m==\u001b[0m \u001b[0;34m'sigmoid'\u001b[0m\u001b[0;34m:\u001b[0m\u001b[0;34m\u001b[0m\u001b[0;34m\u001b[0m\u001b[0m\n\u001b[0;32m---> 77\u001b[0;31m         \u001b[0mY\u001b[0m\u001b[0;34m[\u001b[0m\u001b[0ml\u001b[0m\u001b[0;34m+\u001b[0m\u001b[0;36m1\u001b[0m\u001b[0;34m]\u001b[0m \u001b[0;34m=\u001b[0m \u001b[0mlogsig\u001b[0m\u001b[0;34m(\u001b[0m\u001b[0mW\u001b[0m\u001b[0;34m[\u001b[0m\u001b[0ml\u001b[0m\u001b[0;34m]\u001b[0m\u001b[0;34m@\u001b[0m\u001b[0mY\u001b[0m\u001b[0;34m[\u001b[0m\u001b[0ml\u001b[0m\u001b[0;34m]\u001b[0m \u001b[0;34m+\u001b[0m \u001b[0mb\u001b[0m\u001b[0;34m[\u001b[0m\u001b[0ml\u001b[0m\u001b[0;34m]\u001b[0m\u001b[0;34m)\u001b[0m\u001b[0;34m;\u001b[0m\u001b[0;34m\u001b[0m\u001b[0;34m\u001b[0m\u001b[0m\n\u001b[0m\u001b[1;32m     78\u001b[0m       \u001b[0;32melif\u001b[0m \u001b[0mlayers\u001b[0m\u001b[0;34m[\u001b[0m\u001b[0ml\u001b[0m\u001b[0;34m]\u001b[0m \u001b[0;34m==\u001b[0m \u001b[0;34m'ReLU'\u001b[0m\u001b[0;34m:\u001b[0m\u001b[0;34m\u001b[0m\u001b[0;34m\u001b[0m\u001b[0m\n\u001b[1;32m     79\u001b[0m         \u001b[0mY\u001b[0m\u001b[0;34m[\u001b[0m\u001b[0ml\u001b[0m\u001b[0;34m+\u001b[0m\u001b[0;36m1\u001b[0m\u001b[0;34m]\u001b[0m \u001b[0;34m=\u001b[0m \u001b[0mReLU\u001b[0m\u001b[0;34m(\u001b[0m\u001b[0mW\u001b[0m\u001b[0;34m[\u001b[0m\u001b[0ml\u001b[0m\u001b[0;34m]\u001b[0m\u001b[0;34m@\u001b[0m\u001b[0mY\u001b[0m\u001b[0;34m[\u001b[0m\u001b[0ml\u001b[0m\u001b[0;34m]\u001b[0m \u001b[0;34m+\u001b[0m \u001b[0mb\u001b[0m\u001b[0;34m[\u001b[0m\u001b[0ml\u001b[0m\u001b[0;34m]\u001b[0m\u001b[0;34m)\u001b[0m\u001b[0;34m;\u001b[0m\u001b[0;34m\u001b[0m\u001b[0;34m\u001b[0m\u001b[0m\n",
            "\u001b[0;32m<ipython-input-18-6ca579179c09>\u001b[0m in \u001b[0;36mlogsig\u001b[0;34m(x)\u001b[0m\n\u001b[1;32m     24\u001b[0m   \u001b[0my\u001b[0m \u001b[0;34m=\u001b[0m \u001b[0mnp\u001b[0m\u001b[0;34m.\u001b[0m\u001b[0mzeros\u001b[0m\u001b[0;34m(\u001b[0m\u001b[0mnp\u001b[0m\u001b[0;34m.\u001b[0m\u001b[0mshape\u001b[0m\u001b[0;34m(\u001b[0m\u001b[0mx\u001b[0m\u001b[0;34m)\u001b[0m\u001b[0;34m)\u001b[0m\u001b[0;34m;\u001b[0m\u001b[0;34m\u001b[0m\u001b[0;34m\u001b[0m\u001b[0m\n\u001b[1;32m     25\u001b[0m   \u001b[0;32mfor\u001b[0m \u001b[0mi\u001b[0m \u001b[0;32min\u001b[0m \u001b[0mrange\u001b[0m\u001b[0;34m(\u001b[0m\u001b[0mlen\u001b[0m\u001b[0;34m(\u001b[0m\u001b[0mx\u001b[0m\u001b[0;34m)\u001b[0m\u001b[0;34m)\u001b[0m\u001b[0;34m:\u001b[0m\u001b[0;34m\u001b[0m\u001b[0;34m\u001b[0m\u001b[0m\n\u001b[0;32m---> 26\u001b[0;31m     \u001b[0my\u001b[0m\u001b[0;34m[\u001b[0m\u001b[0mi\u001b[0m\u001b[0;34m]\u001b[0m \u001b[0;34m=\u001b[0m \u001b[0;36m1\u001b[0m\u001b[0;34m/\u001b[0m\u001b[0;34m(\u001b[0m\u001b[0;36m1\u001b[0m\u001b[0;34m+\u001b[0m\u001b[0mnp\u001b[0m\u001b[0;34m.\u001b[0m\u001b[0mexp\u001b[0m\u001b[0;34m(\u001b[0m\u001b[0;34m-\u001b[0m\u001b[0mx\u001b[0m\u001b[0;34m[\u001b[0m\u001b[0mi\u001b[0m\u001b[0;34m]\u001b[0m\u001b[0;34m)\u001b[0m\u001b[0;34m)\u001b[0m\u001b[0;34m;\u001b[0m\u001b[0;34m\u001b[0m\u001b[0;34m\u001b[0m\u001b[0m\n\u001b[0m\u001b[1;32m     27\u001b[0m   \u001b[0;32mreturn\u001b[0m \u001b[0my\u001b[0m\u001b[0;34m;\u001b[0m\u001b[0;34m\u001b[0m\u001b[0;34m\u001b[0m\u001b[0m\n\u001b[1;32m     28\u001b[0m \u001b[0;34m\u001b[0m\u001b[0m\n",
            "\u001b[0;31mKeyboardInterrupt\u001b[0m: "
          ]
        }
      ]
    },
    {
      "cell_type": "markdown",
      "source": [
        "Now let's use Tensorflow"
      ],
      "metadata": {
        "id": "EACA0DbsImkI"
      }
    },
    {
      "cell_type": "code",
      "source": [
        "import tensorflow as tf\n",
        "\n",
        "model = tf.keras.models.Sequential([tf.keras.layers.Input((784,)),\n",
        "    tf.keras.layers.Dense(units = 10, activation = 'relu', kernel_initializer = 'HeUniform', bias_initializer = 'RandomUniform'),\n",
        "    tf.keras.layers.Dense(units = 10, activation = 'relu', kernel_initializer = 'HeUniform', bias_initializer = 'RandomUniform'),\n",
        "    tf.keras.layers.Dense(units = 10, activation = 'relu', kernel_initializer = 'HeUniform', bias_initializer = 'RandomUniform'),\n",
        "    tf.keras.layers.Dense(units = 10, activation = 'relu', kernel_initializer = 'HeUniform', bias_initializer = 'RandomUniform'),    \n",
        "    tf.keras.layers.Dense(units = 10, activation = 'sigmoid', kernel_initializer = 'RandomUniform', bias_initializer = 'RandomUniform')]);\n",
        "\n",
        "model.compile(optimizer = tf.keras.optimizers.Adam(0.1), loss = '', metrics = 'accuracy')\n",
        "model.fit(X.transpose(),T.transpose(),epochs = 1, batch_size = 1);\n",
        "model.evaluate(X_test.transpose(), T_test.transpose(), batch_size = 1)"
      ],
      "metadata": {
        "colab": {
          "base_uri": "https://localhost:8080/"
        },
        "id": "1fbhpyMf2H_e",
        "outputId": "0db47dc2-73a2-47ac-ea47-50334a449d07"
      },
      "execution_count": null,
      "outputs": [
        {
          "output_type": "stream",
          "name": "stdout",
          "text": [
            "Epoch 1/10\n",
            "20000/20000 [==============================] - 38s 2ms/step - loss: 0.1787 - accuracy: 0.1063\n",
            "Epoch 2/10\n",
            "20000/20000 [==============================] - 36s 2ms/step - loss: 0.1787 - accuracy: 0.1063\n",
            "Epoch 3/10\n",
            "20000/20000 [==============================] - 36s 2ms/step - loss: 0.1787 - accuracy: 0.1063\n",
            "Epoch 4/10\n",
            "20000/20000 [==============================] - 36s 2ms/step - loss: 0.1787 - accuracy: 0.1063\n",
            "Epoch 5/10\n",
            "20000/20000 [==============================] - 36s 2ms/step - loss: 0.1787 - accuracy: 0.1063\n",
            "Epoch 6/10\n",
            "20000/20000 [==============================] - 36s 2ms/step - loss: 0.1787 - accuracy: 0.1063\n",
            "Epoch 7/10\n",
            "20000/20000 [==============================] - 36s 2ms/step - loss: 0.1787 - accuracy: 0.1063\n",
            "Epoch 8/10\n",
            "20000/20000 [==============================] - 36s 2ms/step - loss: 0.1787 - accuracy: 0.1063\n",
            "Epoch 9/10\n",
            "20000/20000 [==============================] - 37s 2ms/step - loss: 0.1787 - accuracy: 0.1063\n",
            "Epoch 10/10\n",
            "10817/20000 [===============>..............] - ETA: 16s - loss: 0.1792 - accuracy: 0.1039"
          ]
        }
      ]
    },
    {
      "cell_type": "code",
      "source": [
        "#r = np.random.randint(0,10000);\n",
        "#plt.imshow(np.reshape(X_test[:,range(10000)],(28,28)))\n",
        "O = model.predict(X_test[:,range(10000)].transpose(),batch_size=1);\n",
        "errors = 0;\n",
        "for i in range(10000):\n",
        "  a = np.argmax(O[i]);\n",
        "  ca = np.argmax(T_test[:,i]);\n",
        "  if a!=ca:\n",
        "    errors+=1;\n",
        "print(\"correct rate = \", 100-errors*100/10000);\n",
        "print(\"error rate = \", errors*100/10000);\n",
        "70.42+29.58"
      ],
      "metadata": {
        "colab": {
          "base_uri": "https://localhost:8080/"
        },
        "id": "XPHtjzPV_-Iv",
        "outputId": "1fde3921-0d01-40bf-eb6e-ab261e7047ee"
      },
      "execution_count": null,
      "outputs": [
        {
          "output_type": "stream",
          "name": "stdout",
          "text": [
            "10000/10000 [==============================] - 12s 1ms/step\n",
            "correct rate =  30.11\n",
            "error rate =  69.89\n"
          ]
        },
        {
          "output_type": "execute_result",
          "data": {
            "text/plain": [
              "100.0"
            ]
          },
          "metadata": {},
          "execution_count": 4
        }
      ]
    },
    {
      "cell_type": "code",
      "source": [
        "%reset -f\n",
        "\n",
        "import matplotlib.pyplot as plt\n",
        "import numpy as np\n",
        "import tensorflow as tf\n",
        "\n",
        "X = np.random.rand(2,100)*2-1;\n",
        "X[:,range(50)]+=np.ones((2,50));\n",
        "X[:,range(50,100)]+=np.ones((2,50))*(-1);\n",
        "if True:\n",
        "  plt.plot(X[0,range(50)],X[1,range(50)],'ob');\n",
        "  plt.plot(X[0,range(50,100)],X[1,range(50,100)],'ob');\n",
        "\n",
        "T = np.array([0]*50+[1]*50);\n",
        "\n",
        "model = tf.keras.models.Sequential([\n",
        "    tf.keras.layers.Input(2,),\n",
        "    tf.keras.layers.Dense(4,activation='sigmoid'),\n",
        "    tf.keras.layers.Dense(1,activation='sigmoid')]\n",
        ");\n",
        "model.compile(optimizer = 'SGD', loss = 'MSE', metrics = 'accuracy');\n",
        "model.fit(X.transpose(),T.transpose(),batch_size = 1,epochs=10);\n",
        "\n",
        "X_test = np.random.rand(2,100)*2-1;\n",
        "X_test[:,range(50)]+=np.ones((2,50));\n",
        "X_test[:,range(50,100)]+=np.ones((2,50))*(-1);\n",
        "\n",
        "T_test = np.array([0]*50+[1]*50);\n",
        "\n",
        "model.evaluate(X_test.transpose(),T_test.transpose());\n",
        "\n",
        "plt.figure();\n",
        "for x1 in np.arange(-5,5,0.1):\n",
        "  for x2 in np.arange(-5,5,0.1):\n",
        "    x = np.array([x1,x2]);\n",
        "    O = model.predict(x);\n",
        "    if O>0.5:\n",
        "      plt.plot"
      ],
      "metadata": {
        "colab": {
          "base_uri": "https://localhost:8080/",
          "height": 1000
        },
        "id": "RTd8T7uDx_LY",
        "outputId": "def518a4-48fd-4629-ffae-3b3b06057deb"
      },
      "execution_count": null,
      "outputs": [
        {
          "output_type": "stream",
          "name": "stdout",
          "text": [
            "Epoch 1/10\n",
            "100/100 [==============================] - 1s 2ms/step - loss: 0.2985 - accuracy: 0.5000\n",
            "Epoch 2/10\n",
            "100/100 [==============================] - 0s 2ms/step - loss: 0.2809 - accuracy: 0.5000\n",
            "Epoch 3/10\n",
            "100/100 [==============================] - 0s 2ms/step - loss: 0.2657 - accuracy: 0.5000\n",
            "Epoch 4/10\n",
            "100/100 [==============================] - 0s 2ms/step - loss: 0.2527 - accuracy: 0.5000\n",
            "Epoch 5/10\n",
            "100/100 [==============================] - 0s 2ms/step - loss: 0.2415 - accuracy: 0.5400\n",
            "Epoch 6/10\n",
            "100/100 [==============================] - 0s 2ms/step - loss: 0.2314 - accuracy: 0.6400\n",
            "Epoch 7/10\n",
            "100/100 [==============================] - 0s 2ms/step - loss: 0.2221 - accuracy: 0.7700\n",
            "Epoch 8/10\n",
            "100/100 [==============================] - 0s 2ms/step - loss: 0.2132 - accuracy: 0.8400\n",
            "Epoch 9/10\n",
            "100/100 [==============================] - 0s 2ms/step - loss: 0.2046 - accuracy: 0.9300\n",
            "Epoch 10/10\n",
            "100/100 [==============================] - 0s 1ms/step - loss: 0.1962 - accuracy: 0.9500\n",
            "4/4 [==============================] - 0s 3ms/step - loss: 0.1893 - accuracy: 0.9700\n"
          ]
        },
        {
          "output_type": "error",
          "ename": "ValueError",
          "evalue": "ignored",
          "traceback": [
            "\u001b[0;31m---------------------------------------------------------------------------\u001b[0m",
            "\u001b[0;31mValueError\u001b[0m                                Traceback (most recent call last)",
            "\u001b[0;32m<ipython-input-5-169f8c039878>\u001b[0m in \u001b[0;36m<cell line: 33>\u001b[0;34m()\u001b[0m\n\u001b[1;32m     34\u001b[0m   \u001b[0;32mfor\u001b[0m \u001b[0mx2\u001b[0m \u001b[0;32min\u001b[0m \u001b[0mnp\u001b[0m\u001b[0;34m.\u001b[0m\u001b[0marange\u001b[0m\u001b[0;34m(\u001b[0m\u001b[0;34m-\u001b[0m\u001b[0;36m5\u001b[0m\u001b[0;34m,\u001b[0m\u001b[0;36m5\u001b[0m\u001b[0;34m,\u001b[0m\u001b[0;36m0.1\u001b[0m\u001b[0;34m)\u001b[0m\u001b[0;34m:\u001b[0m\u001b[0;34m\u001b[0m\u001b[0;34m\u001b[0m\u001b[0m\n\u001b[1;32m     35\u001b[0m     \u001b[0mx\u001b[0m \u001b[0;34m=\u001b[0m \u001b[0mnp\u001b[0m\u001b[0;34m.\u001b[0m\u001b[0marray\u001b[0m\u001b[0;34m(\u001b[0m\u001b[0;34m[\u001b[0m\u001b[0mx1\u001b[0m\u001b[0;34m,\u001b[0m\u001b[0mx2\u001b[0m\u001b[0;34m]\u001b[0m\u001b[0;34m)\u001b[0m\u001b[0;34m;\u001b[0m\u001b[0;34m\u001b[0m\u001b[0;34m\u001b[0m\u001b[0m\n\u001b[0;32m---> 36\u001b[0;31m     \u001b[0mO\u001b[0m \u001b[0;34m=\u001b[0m \u001b[0mmodel\u001b[0m\u001b[0;34m.\u001b[0m\u001b[0mpredict\u001b[0m\u001b[0;34m(\u001b[0m\u001b[0mx\u001b[0m\u001b[0;34m)\u001b[0m\u001b[0;34m;\u001b[0m\u001b[0;34m\u001b[0m\u001b[0;34m\u001b[0m\u001b[0m\n\u001b[0m\u001b[1;32m     37\u001b[0m     \u001b[0;32mif\u001b[0m \u001b[0mO\u001b[0m\u001b[0;34m>\u001b[0m\u001b[0;36m0.5\u001b[0m\u001b[0;34m:\u001b[0m\u001b[0;34m\u001b[0m\u001b[0;34m\u001b[0m\u001b[0m\n\u001b[1;32m     38\u001b[0m       \u001b[0mplt\u001b[0m\u001b[0;34m.\u001b[0m\u001b[0mplot\u001b[0m\u001b[0;34m\u001b[0m\u001b[0;34m\u001b[0m\u001b[0m\n",
            "\u001b[0;32m/usr/local/lib/python3.9/dist-packages/keras/utils/traceback_utils.py\u001b[0m in \u001b[0;36merror_handler\u001b[0;34m(*args, **kwargs)\u001b[0m\n\u001b[1;32m     68\u001b[0m             \u001b[0;31m# To get the full stack trace, call:\u001b[0m\u001b[0;34m\u001b[0m\u001b[0;34m\u001b[0m\u001b[0m\n\u001b[1;32m     69\u001b[0m             \u001b[0;31m# `tf.debugging.disable_traceback_filtering()`\u001b[0m\u001b[0;34m\u001b[0m\u001b[0;34m\u001b[0m\u001b[0m\n\u001b[0;32m---> 70\u001b[0;31m             \u001b[0;32mraise\u001b[0m \u001b[0me\u001b[0m\u001b[0;34m.\u001b[0m\u001b[0mwith_traceback\u001b[0m\u001b[0;34m(\u001b[0m\u001b[0mfiltered_tb\u001b[0m\u001b[0;34m)\u001b[0m \u001b[0;32mfrom\u001b[0m \u001b[0;32mNone\u001b[0m\u001b[0;34m\u001b[0m\u001b[0;34m\u001b[0m\u001b[0m\n\u001b[0m\u001b[1;32m     71\u001b[0m         \u001b[0;32mfinally\u001b[0m\u001b[0;34m:\u001b[0m\u001b[0;34m\u001b[0m\u001b[0;34m\u001b[0m\u001b[0m\n\u001b[1;32m     72\u001b[0m             \u001b[0;32mdel\u001b[0m \u001b[0mfiltered_tb\u001b[0m\u001b[0;34m\u001b[0m\u001b[0;34m\u001b[0m\u001b[0m\n",
            "\u001b[0;32m/usr/local/lib/python3.9/dist-packages/keras/engine/training.py\u001b[0m in \u001b[0;36mtf__predict_function\u001b[0;34m(iterator)\u001b[0m\n\u001b[1;32m     13\u001b[0m                 \u001b[0;32mtry\u001b[0m\u001b[0;34m:\u001b[0m\u001b[0;34m\u001b[0m\u001b[0;34m\u001b[0m\u001b[0m\n\u001b[1;32m     14\u001b[0m                     \u001b[0mdo_return\u001b[0m \u001b[0;34m=\u001b[0m \u001b[0;32mTrue\u001b[0m\u001b[0;34m\u001b[0m\u001b[0;34m\u001b[0m\u001b[0m\n\u001b[0;32m---> 15\u001b[0;31m                     \u001b[0mretval_\u001b[0m \u001b[0;34m=\u001b[0m \u001b[0mag__\u001b[0m\u001b[0;34m.\u001b[0m\u001b[0mconverted_call\u001b[0m\u001b[0;34m(\u001b[0m\u001b[0mag__\u001b[0m\u001b[0;34m.\u001b[0m\u001b[0mld\u001b[0m\u001b[0;34m(\u001b[0m\u001b[0mstep_function\u001b[0m\u001b[0;34m)\u001b[0m\u001b[0;34m,\u001b[0m \u001b[0;34m(\u001b[0m\u001b[0mag__\u001b[0m\u001b[0;34m.\u001b[0m\u001b[0mld\u001b[0m\u001b[0;34m(\u001b[0m\u001b[0mself\u001b[0m\u001b[0;34m)\u001b[0m\u001b[0;34m,\u001b[0m \u001b[0mag__\u001b[0m\u001b[0;34m.\u001b[0m\u001b[0mld\u001b[0m\u001b[0;34m(\u001b[0m\u001b[0miterator\u001b[0m\u001b[0;34m)\u001b[0m\u001b[0;34m)\u001b[0m\u001b[0;34m,\u001b[0m \u001b[0;32mNone\u001b[0m\u001b[0;34m,\u001b[0m \u001b[0mfscope\u001b[0m\u001b[0;34m)\u001b[0m\u001b[0;34m\u001b[0m\u001b[0;34m\u001b[0m\u001b[0m\n\u001b[0m\u001b[1;32m     16\u001b[0m                 \u001b[0;32mexcept\u001b[0m\u001b[0;34m:\u001b[0m\u001b[0;34m\u001b[0m\u001b[0;34m\u001b[0m\u001b[0m\n\u001b[1;32m     17\u001b[0m                     \u001b[0mdo_return\u001b[0m \u001b[0;34m=\u001b[0m \u001b[0;32mFalse\u001b[0m\u001b[0;34m\u001b[0m\u001b[0;34m\u001b[0m\u001b[0m\n",
            "\u001b[0;31mValueError\u001b[0m: in user code:\n\n    File \"/usr/local/lib/python3.9/dist-packages/keras/engine/training.py\", line 2169, in predict_function  *\n        return step_function(self, iterator)\n    File \"/usr/local/lib/python3.9/dist-packages/keras/engine/training.py\", line 2155, in step_function  **\n        outputs = model.distribute_strategy.run(run_step, args=(data,))\n    File \"/usr/local/lib/python3.9/dist-packages/keras/engine/training.py\", line 2143, in run_step  **\n        outputs = model.predict_step(data)\n    File \"/usr/local/lib/python3.9/dist-packages/keras/engine/training.py\", line 2111, in predict_step\n        return self(x, training=False)\n    File \"/usr/local/lib/python3.9/dist-packages/keras/utils/traceback_utils.py\", line 70, in error_handler\n        raise e.with_traceback(filtered_tb) from None\n    File \"/usr/local/lib/python3.9/dist-packages/keras/engine/input_spec.py\", line 253, in assert_input_compatibility\n        raise ValueError(\n\n    ValueError: Exception encountered when calling layer 'sequential_1' (type Sequential).\n    \n    Input 0 of layer \"dense_2\" is incompatible with the layer: expected min_ndim=2, found ndim=1. Full shape received: (None,)\n    \n    Call arguments received by layer 'sequential_1' (type Sequential):\n      • inputs=tf.Tensor(shape=(None,), dtype=float32)\n      • training=False\n      • mask=None\n"
          ]
        },
        {
          "output_type": "display_data",
          "data": {
            "text/plain": [
              "<Figure size 640x480 with 1 Axes>"
            ],
            "image/png": "[encoded data removed]"
          },
          "metadata": {}
        },
        {
          "output_type": "display_data",
          "data": {
            "text/plain": [
              "<Figure size 640x480 with 0 Axes>"
            ]
          },
          "metadata": {}
        }
      ]
    }
  ]
}